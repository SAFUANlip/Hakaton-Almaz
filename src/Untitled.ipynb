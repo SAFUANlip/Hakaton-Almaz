{
 "cells": [
  {
   "cell_type": "code",
   "execution_count": 5,
   "id": "367459a1-8d44-4154-9bca-2d9ae5661724",
   "metadata": {},
   "outputs": [
    {
     "name": "stdout",
     "output_type": "stream",
     "text": [
      "Graph with 18 nodes and 24 edges\n",
      "Constraint: Maximum independent set. (18 constraints)\n",
      "Version identifier: 22.1.1.0 | 2023-06-15 | d64d5bd77\n",
      "CPXPARAM_Read_DataCheck                          1\n",
      "Legacy callback                                  LD\n"
     ]
    },
    {
     "name": "stderr",
     "output_type": "stream",
     "text": [
      "Warning: Control callbacks may disable some MIP features.\n"
     ]
    },
    {
     "name": "stdout",
     "output_type": "stream",
     "text": [
      "Lazy constraint(s) or lazy constraint/branch callback is present.\n",
      "    Disabling dual reductions (CPX_PARAM_REDUCE) in presolve.\n",
      "    Disabling presolve reductions that prevent crushing forms (CPX_PARAM_PREREFORM).\n",
      "         Disabling repeat represolve because of lazy constraint/incumbent callback.\n",
      "Tried aggregator 1 time.\n",
      "MIP Presolve eliminated 6 rows and 0 columns.\n",
      "Reduced MIP has 12 rows, 18 columns, and 72 nonzeros.\n",
      "Reduced MIP has 0 binaries, 0 generals, 0 SOSs, and 0 indicators.\n",
      "Presolve time = 0.02 sec. (0.02 ticks)\n",
      "MIP emphasis: balance optimality and feasibility.\n",
      "MIP search method: traditional branch-and-cut.\n",
      "Parallel mode: none, using 1 thread.\n",
      "Root relaxation solution time = 0.00 sec. (0.01 ticks)\n",
      "Current solution:  [5, 7, 8, 14, 16, 17]\n",
      "Current solution:  [4, 10, 11, 13]\n",
      "Current solution:  [0, 6, 8, 10, 11]\n",
      "Current solution:  [4, 6, 8, 10, 11, 16]\n",
      "Current solution:  [0, 2, 4, 5, 6, 8]\n",
      "Current solution:  [6, 7, 8]\n",
      "Current solution:  [6, 7, 8]\n",
      "\n",
      "        Nodes                                         Cuts/\n",
      "   Node  Left     Objective  IInf  Best Integer    Best Bound    ItCnt     Gap         Variable B NodeID Parent  Depth\n",
      "\n",
      "*     0     0      integral     0        3.0000        6.0000        8  100.00%                        0             0\n",
      "Elapsed time = 0.03 sec. (0.16 ticks, tree = 0.00 MB, solutions = 1)\n",
      "\n",
      "User cuts applied:  17\n",
      "\n",
      "Root node processing (before b&c):\n",
      "  Real time             =    0.03 sec. (0.16 ticks)\n",
      "Sequential b&c:\n",
      "  Real time             =    0.00 sec. (0.00 ticks)\n",
      "                          ------------\n",
      "Total (root+branch&cut) =    0.03 sec. (0.16 ticks)\n",
      "Status:MIP_optimal\n",
      "Solution value: \n",
      "3.0\n",
      "x6 1.0\n",
      "x7 1.0\n",
      "x8 1.0\n"
     ]
    }
   ],
   "source": [
    "#Maximum weighted clique for a graph\n",
    "\n",
    "\n",
    "\n",
    "import matplotlib\n",
    "matplotlib.use('TkAgg')\n",
    "import matplotlib.pyplot as plt\n",
    "import networkx as nx\n",
    "import cplex\n",
    "from cplex.callbacks import LazyConstraintCallback\n",
    "\n",
    "\n",
    "def greedy_expand(G, init_set):\n",
    "\n",
    "    R = G.copy()\n",
    "    neigh = [n for i in init_set for n in R.neighbors(i)]\n",
    "    R.remove_nodes_from(init_set)\n",
    "    R.remove_nodes_from(neigh)\n",
    "    if R.number_of_nodes() != 0:\n",
    "        x = get_min_degree_vertex(R)\n",
    "    while R.number_of_nodes() != 0:\n",
    "        neigh2 = [m for m in R.neighbors(x)]\n",
    "        R.remove_node(x)\n",
    "        init_set.append(x)\n",
    "        R.remove_nodes_from(neigh2)\n",
    "        if R.number_of_nodes() != 0:\n",
    "            x = get_min_degree_vertex(R)\n",
    "\n",
    "    return init_set\n",
    "\n",
    "\n",
    "def greedy_init(G):\n",
    "    \"\"\"\n",
    "    https://kmutya.github.io/maxclique/\n",
    "    \"\"\"\n",
    "    n = G.number_of_nodes()  # Storing total number of nodes in 'n'\n",
    "    max_ind_sets = []  # initializing a list that will store maximum independent sets\n",
    "    for j in G.nodes:\n",
    "        R = G.copy()  # Storing a copy of the graph as a residual\n",
    "        neigh = [n for n in R.neighbors(j)]  # Catch all the neighbours of j\n",
    "        R.remove_node(j)  # removing the node we start from\n",
    "        iset = [j]\n",
    "        R.remove_nodes_from(neigh)  # Removing the neighbours of j\n",
    "        if R.number_of_nodes() != 0:\n",
    "            x = get_min_degree_vertex(R)\n",
    "        while R.number_of_nodes() != 0:\n",
    "            neigh2 = [m for m in R.neighbors(x)]\n",
    "            R.remove_node(x)\n",
    "            iset.append(x)\n",
    "            R.remove_nodes_from(neigh2)\n",
    "            if R.number_of_nodes() != 0:\n",
    "                x = get_min_degree_vertex(R)\n",
    "\n",
    "        max_ind_sets.append(iset)\n",
    "\n",
    "    return(max_ind_sets)\n",
    "\n",
    "\n",
    "def get_min_degree_vertex(Residual_graph):\n",
    "    '''Takes in the residual graph R and returns the node with the lowest degree'''\n",
    "    degrees = [val for (node, val) in Residual_graph.degree()]\n",
    "    node = [node for (node, val) in Residual_graph.degree()]\n",
    "    node_degree = dict(zip(node, degrees))\n",
    "    return (min(node_degree, key=node_degree.get))\n",
    "\n",
    "\n",
    "G = nx.generators.ring_of_cliques(6, 3)\n",
    "print(G)\n",
    "\n",
    "nx.draw(G, with_labels=True)\n",
    "plt.savefig(\"tmp.png\")\n",
    "mis = greedy_init(G)\n",
    "\n",
    "prob = cplex.Cplex()\n",
    "\n",
    "numvar = len(G.nodes)\n",
    "\n",
    "\n",
    "def func(x): return \"x\"+str(x)\n",
    "\n",
    "\n",
    "class LazyCallback(LazyConstraintCallback):\n",
    "    \"\"\"Lazy constraint callback to generate maximum independent sets on the fly.\n",
    "    There are too many such constraints to make them all available to \n",
    "    CPLEX right away - and in any case, very few of them are valid.\n",
    "    So generate them on the fly.\n",
    "    \"\"\"\n",
    "\n",
    "    # Callback constructor.\n",
    "    #\n",
    "    # Any needed fields are set externally after registering the callback.\n",
    "    def __init__(self, env):\n",
    "        super().__init__(env)\n",
    "\n",
    "    def __call__(self):\n",
    "\n",
    "        values = self.get_values(self.names)\n",
    "\n",
    "        # Any node with non-zero value is considered as part of the set\n",
    "        curr_solution = [int(name[1:]) for name, val in zip(self.names, values) if val >= 0.001]\n",
    "        print(\"Current solution: \", curr_solution)\n",
    "\n",
    "        # Look to generate all independent sets that would cut off the (fractional)\n",
    "        # value. To do this, first induce a subgraph - and for each node, built a\n",
    "        #\n",
    "        subG = self.G.subgraph(curr_solution)\n",
    "        sub_ind_set = greedy_init(subG)\n",
    "        max_ind_sets = [greedy_expand(self.G, sset) for sset in sub_ind_set]\n",
    "\n",
    "        for iset in max_ind_sets:\n",
    "\n",
    "            con_vars = [func(i) for i in iset]\n",
    "            coeffs = [1.0] * len(con_vars)\n",
    "            lhs = cplex.SparsePair(con_vars, coeffs)\n",
    "            self.add(constraint=lhs, rhs=1.0, sense='L')\n",
    "\n",
    "\n",
    "names = list(map(func, G.nodes))\n",
    "var_type = [prob.variables.type.continuous] * numvar\n",
    "prob.variables.add(names=names,\n",
    "                   lb=[0.0] * numvar,\n",
    "                   ub=[1.0] * numvar,\n",
    "                   types=var_type)\n",
    "prob.objective.set_sense(prob.objective.sense.maximize)\n",
    "prob.objective.set_linear([(n, 1.0) for n in names])\n",
    "lhs = []\n",
    "for iset in mis:\n",
    "    con_vars = [func(i) for i in iset]\n",
    "    coeffs = [1.0] * len(con_vars)\n",
    "    lhs.append(cplex.SparsePair(con_vars, coeffs))\n",
    "prob.linear_constraints.add(lin_expr=lhs,\n",
    "                            rhs=[1.0] * len(lhs),\n",
    "                            senses=['L'] * len(lhs))\n",
    "print(\"Constraint: Maximum independent set. ({} constraints)\".format(len(mis)))\n",
    "\n",
    "# register callbacks to generate additional independent sets on the fly\n",
    "lazycb = prob.register_callback(LazyCallback)\n",
    "lazycb.names = names\n",
    "lazycb.G = G\n",
    "\n",
    "# prob.write(\"test.lp\")\n",
    "prob.solve()\n",
    "status = prob.solution.status[prob.solution.get_status()]\n",
    "print(\"Status:{}\".format(status))\n",
    "\n",
    "if prob.solution.get_status() in [101, 105, 107, 111, 113]:\n",
    "    # Optimal/feasible\n",
    "\n",
    "    # Get the solution\n",
    "    print(\"Solution value: \")\n",
    "    print(prob.solution.get_objective_value())\n",
    "\n",
    "    # get the configuration\n",
    "    x_res = prob.solution.get_values(names)\n",
    "    for x_name, val in zip(names, x_res):\n",
    "        if val > 0:\n",
    "            print(x_name, val)"
   ]
  },
  {
   "cell_type": "code",
   "execution_count": 33,
   "id": "0d4f3a83-1b6d-4381-b47f-fe2d56d4fbae",
   "metadata": {},
   "outputs": [],
   "source": [
    "from networkx.algorithms.clique import max_weight_clique\n",
    "import networkx as nx\n",
    "import pandas as pd\n",
    "import numpy as np"
   ]
  },
  {
   "cell_type": "code",
   "execution_count": 70,
   "id": "d5248d70-eadc-43cd-ae91-4a04ca3d5b44",
   "metadata": {},
   "outputs": [],
   "source": [
    "input_matrix_path = \"data/input_matrix.csv\"\n",
    "out_path = \"data/out.csv\"\n",
    "weights_path = \"data/weights.csv\""
   ]
  },
  {
   "cell_type": "code",
   "execution_count": 71,
   "id": "3113ecba-2132-47e8-ab2b-606e3819cf45",
   "metadata": {},
   "outputs": [],
   "source": [
    "weights = pd.read_csv(weights_path, header=None).to_numpy()\n",
    "weights = weights.reshape(-1)\n",
    "\n",
    "input_df = pd.read_csv(input_matrix_path, header=None).to_numpy()\n",
    "comp_matrix = input_df\n",
    "hyp_num = len(weights)"
   ]
  },
  {
   "cell_type": "code",
   "execution_count": 72,
   "id": "83fe6f2c-df2c-475f-8811-78c2e2be578b",
   "metadata": {},
   "outputs": [],
   "source": [
    "\n",
    "multiplic = 10**5\n",
    "G = nx.Graph()\n",
    "\n",
    "for i in range(len(weights)):\n",
    "    G.add_node(i, weight = int( weights[i]*multiplic))\n",
    "\n",
    "for i in range(len(weights)):\n",
    "    for j in range(i+1, len(weights)):\n",
    "        if comp_matrix[i, j] == 1:\n",
    "            G.add_edge(i, j)"
   ]
  },
  {
   "cell_type": "code",
   "execution_count": 73,
   "id": "850af349-5f95-4156-a2b1-4baa44959912",
   "metadata": {},
   "outputs": [
    {
     "name": "stdout",
     "output_type": "stream",
     "text": [
      "CPU times: total: 15.6 ms\n",
      "Wall time: 9.04 ms\n"
     ]
    },
    {
     "data": {
      "text/plain": [
       "93.53018"
      ]
     },
     "execution_count": 73,
     "metadata": {},
     "output_type": "execute_result"
    }
   ],
   "source": [
    "%%time\n",
    "output = max_weight_clique(G)\n",
    "output[1]/multiplic"
   ]
  },
  {
   "cell_type": "code",
   "execution_count": 3,
   "id": "c2b6af9a-e0ee-4604-a742-6c13bced747f",
   "metadata": {},
   "outputs": [
    {
     "name": "stdout",
     "output_type": "stream",
     "text": [
      "Collecting cplex\n",
      "  Downloading cplex-22.1.1.2-cp310-cp310-win_amd64.whl (26.4 MB)\n",
      "     ---------------------------------------- 26.4/26.4 MB 6.6 MB/s eta 0:00:00\n",
      "Installing collected packages: cplex\n",
      "Successfully installed cplex-22.1.1.2\n",
      "Note: you may need to restart the kernel to use updated packages.\n"
     ]
    },
    {
     "name": "stderr",
     "output_type": "stream",
     "text": [
      "WARNING: Ignoring invalid distribution -yqt5-sip (c:\\users\\alice\\anaconda3\\lib\\site-packages)\n",
      "WARNING: Ignoring invalid distribution -rotobuf (c:\\users\\alice\\anaconda3\\lib\\site-packages)\n",
      "WARNING: Ignoring invalid distribution -yqt5-sip (c:\\users\\alice\\anaconda3\\lib\\site-packages)\n",
      "WARNING: Ignoring invalid distribution -rotobuf (c:\\users\\alice\\anaconda3\\lib\\site-packages)\n",
      "WARNING: Ignoring invalid distribution -yqt5-sip (c:\\users\\alice\\anaconda3\\lib\\site-packages)\n",
      "WARNING: Ignoring invalid distribution -rotobuf (c:\\users\\alice\\anaconda3\\lib\\site-packages)\n",
      "WARNING: Ignoring invalid distribution -yqt5-sip (c:\\users\\alice\\anaconda3\\lib\\site-packages)\n",
      "WARNING: Ignoring invalid distribution -rotobuf (c:\\users\\alice\\anaconda3\\lib\\site-packages)\n",
      "WARNING: Ignoring invalid distribution -yqt5-sip (c:\\users\\alice\\anaconda3\\lib\\site-packages)\n",
      "WARNING: Ignoring invalid distribution -rotobuf (c:\\users\\alice\\anaconda3\\lib\\site-packages)\n",
      "WARNING: Ignoring invalid distribution -yqt5-sip (c:\\users\\alice\\anaconda3\\lib\\site-packages)\n",
      "WARNING: Ignoring invalid distribution -rotobuf (c:\\users\\alice\\anaconda3\\lib\\site-packages)\n",
      "WARNING: Ignoring invalid distribution -yqt5-sip (c:\\users\\alice\\anaconda3\\lib\\site-packages)\n",
      "WARNING: Ignoring invalid distribution -rotobuf (c:\\users\\alice\\anaconda3\\lib\\site-packages)\n"
     ]
    }
   ],
   "source": [
    "pip install cplex"
   ]
  },
  {
   "cell_type": "code",
   "execution_count": null,
   "id": "2c6ed637-5d6e-44c1-8239-5a9eed111203",
   "metadata": {},
   "outputs": [],
   "source": []
  }
 ],
 "metadata": {
  "kernelspec": {
   "display_name": "Python 3 (ipykernel)",
   "language": "python",
   "name": "python3"
  },
  "language_info": {
   "codemirror_mode": {
    "name": "ipython",
    "version": 3
   },
   "file_extension": ".py",
   "mimetype": "text/x-python",
   "name": "python",
   "nbconvert_exporter": "python",
   "pygments_lexer": "ipython3",
   "version": "3.10.9"
  }
 },
 "nbformat": 4,
 "nbformat_minor": 5
}
